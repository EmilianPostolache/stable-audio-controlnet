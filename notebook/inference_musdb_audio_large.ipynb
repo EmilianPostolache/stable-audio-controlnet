{
 "cells": [
  {
   "metadata": {
    "ExecuteTime": {
     "end_time": "2024-08-18T09:35:15.469270Z",
     "start_time": "2024-08-18T09:35:11.650899Z"
    }
   },
   "cell_type": "code",
   "source": [
    "import os\n",
    "\n",
    "import hydra\n",
    "import torch\n",
    "import torchaudio\n",
    "from stable_audio_tools.inference.generation import generate_diffusion_cond"
   ],
   "id": "37163187d0c5edd",
   "outputs": [],
   "execution_count": 1
  },
  {
   "metadata": {
    "collapsed": true
   },
   "cell_type": "code",
   "source": [
    "# params\n",
    "seed = 42\n",
    "num_samples = 2\n",
    "exp_cfg = \"train_musdb_controlnet_audio_large\"\n",
    "ckpt_path = \"../ckpts/musdb-audio/epoch=192-valid_loss=0.418.ckpt\"\n",
    "dataset_path = \"../data/musdb18hq/\"\n",
    "\n",
    "# load config\n",
    "with hydra.initialize(config_path=\"..\", version_base=None):\n",
    "    cond_cfg = hydra.compose(config_name=\"config\", overrides=[f'exp={exp_cfg}',\n",
    "                                                              f'datamodule.val_dataset.path={dataset_path}/test.tar', \n",
    "                                                              f'datamodule.train_dataset.path={dataset_path}/train.tar'])\n",
    "    \n",
    "# init model\n",
    "model = hydra.utils.instantiate(cond_cfg[\"model\"])\n",
    "ckpt = torch.load(ckpt_path, map_location=\"cpu\")\n",
    "model.load_state_dict(ckpt['state_dict'], strict=False)\n",
    "model = model.cuda()\n",
    "\n",
    "# load dataloader\n",
    "datamodule = hydra.utils.instantiate(cond_cfg[\"datamodule\"])\n",
    "val_dataloader = datamodule.val_dataloader()"
   ],
   "id": "initial_id",
   "outputs": [],
   "execution_count": null
  },
  {
   "metadata": {
    "ExecuteTime": {
     "end_time": "2024-08-18T09:37:28.072102Z",
     "start_time": "2024-08-18T09:37:13.820951Z"
    }
   },
   "cell_type": "code",
   "source": [
    "# load conditioning (replace with your audio and prompts; prompts must follow \"in: stems; out:stems\" structure)\n",
    "\n",
    "_, y, prompts, start_seconds, total_seconds = next(iter(val_dataloader))\n",
    "y = torch.clip(y, -1, 1)\n",
    "num_samples = min(num_samples, y.shape[0])\n",
    "\n",
    "conditioning = [{\n",
    "    \"audio\": y[i:i+1].cuda(),\n",
    "    \"prompt\": prompts[i],\n",
    "    \"seconds_start\": start_seconds[i],\n",
    "    \"seconds_total\": total_seconds[i],\n",
    "} for i in range(num_samples)]"
   ],
   "id": "6622371585eb6b1c",
   "outputs": [],
   "execution_count": 3
  },
  {
   "metadata": {},
   "cell_type": "code",
   "source": [
    "# generate \n",
    "\n",
    "output = generate_diffusion_cond(\n",
    "            model.model,\n",
    "            seed=seed,\n",
    "            batch_size=num_samples,\n",
    "            steps=100,\n",
    "            cfg_scale=7.0,\n",
    "            conditioning=conditioning,\n",
    "            sample_size=y.shape[-1],\n",
    "            sigma_min=0.3,\n",
    "            sigma_max=500,\n",
    "            sampler_type=\"dpmpp-3m-sde\",\n",
    "            device=\"cuda\"\n",
    "        )"
   ],
   "id": "78233c92ee92cda6",
   "outputs": [],
   "execution_count": null
  },
  {
   "metadata": {
    "ExecuteTime": {
     "end_time": "2024-08-18T09:38:07.895244Z",
     "start_time": "2024-08-18T09:38:07.521407Z"
    }
   },
   "cell_type": "code",
   "source": [
    "# save results\n",
    "if \"out\" not in os.listdir():\n",
    "    os.mkdir(\"out\")\n",
    "\n",
    "for i in range(num_samples):\n",
    "    prompt = {prompts[i].replace(\" \", \"\")}\n",
    "    torchaudio.save(f\"out/input_{i}_prompt_{prompt}.wav\", y[i].cpu(), sample_rate=44100)\n",
    "    torchaudio.save(f\"out/output_{i}_prompt_{prompt}.wav\", output[i].cpu(), sample_rate=44100)\n",
    "    torchaudio.save(f\"out/mix_{i}_prompt_{prompt}.wav\", y[i].cpu() + output[i].cpu(), sample_rate=44100)"
   ],
   "id": "a3ab0f416c1a62c0",
   "outputs": [],
   "execution_count": 5
  },
  {
   "metadata": {},
   "cell_type": "code",
   "outputs": [],
   "execution_count": null,
   "source": "",
   "id": "da8ce1f413558ad5"
  }
 ],
 "metadata": {
  "kernelspec": {
   "display_name": "Python 3",
   "language": "python",
   "name": "python3"
  },
  "language_info": {
   "codemirror_mode": {
    "name": "ipython",
    "version": 2
   },
   "file_extension": ".py",
   "mimetype": "text/x-python",
   "name": "python",
   "nbconvert_exporter": "python",
   "pygments_lexer": "ipython2",
   "version": "2.7.6"
  }
 },
 "nbformat": 4,
 "nbformat_minor": 5
}
