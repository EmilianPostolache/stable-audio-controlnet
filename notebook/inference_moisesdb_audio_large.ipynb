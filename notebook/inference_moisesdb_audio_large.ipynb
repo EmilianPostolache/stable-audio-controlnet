{
 "cells": [
  {
   "metadata": {},
   "cell_type": "code",
   "source": [
    "import os\n",
    "import hydra\n",
    "import torch\n",
    "import torchaudio\n",
    "from stable_audio_tools.inference.generation import generate_diffusion_cond"
   ],
   "id": "37163187d0c5edd",
   "outputs": [],
   "execution_count": null
  },
  {
   "metadata": {
    "collapsed": true
   },
   "cell_type": "code",
   "source": [
    "# params\n",
    "seed = 42\n",
    "\n",
    "num_samples = 1\n",
    "exp_cfg = \"train_moisesdb_controlnet_audio_large\"\n",
    "ckpt_path = \"../ckpts/moisesdb-audio/last.ckpt\"\n",
    "dataset_path = \"../data/moisesdb/\"\n",
    "\n",
    "# load config\n",
    "with hydra.initialize(config_path=\"..\", version_base=None):\n",
    "    cond_cfg = hydra.compose(config_name=\"config\", overrides=[f'exp={exp_cfg}',\n",
    "                                                              f'datamodule.val_dataset.path={dataset_path}/19.tar', \n",
    "                                                              f'datamodule.train_dataset.path={dataset_path}/19.tar',\n",
    "                                                              f'datamodule.batch_size_train=1',\n",
    "                                                              f'datamodule.batch_size_val=1'])\n",
    "    \n",
    "# init model\n",
    "model = hydra.utils.instantiate(cond_cfg[\"model\"])\n",
    "ckpt = torch.load(ckpt_path, map_location=\"cpu\")\n",
    "model.load_state_dict(ckpt['state_dict'], strict=False)\n",
    "model = model.cuda()\n",
    "\n",
    "# load dataloader\n",
    "datamodule = hydra.utils.instantiate(cond_cfg[\"datamodule\"])\n",
    "val_dataloader = datamodule.val_dataloader()"
   ],
   "id": "initial_id",
   "outputs": [],
   "execution_count": null
  },
  {
   "metadata": {},
   "cell_type": "code",
   "source": [
    "def generate_and_save(b, out_path):\n",
    "    _, y, prompts, start_seconds, total_seconds = b\n",
    "    y = torch.clip(y, -1, 1)\n",
    "\n",
    "    num_samples = 1\n",
    "\n",
    "    conditioning = [{\n",
    "        \"audio\": y[i:i+1].cuda(),\n",
    "        \"prompt\": prompts[i],\n",
    "        \"seconds_start\": start_seconds[i],\n",
    "        \"seconds_total\": total_seconds[i],\n",
    "    } for i in range(num_samples)]\n",
    "\n",
    "    output = generate_diffusion_cond(\n",
    "            model.model,\n",
    "            seed=seed,\n",
    "            batch_size=num_samples,\n",
    "            steps=100,\n",
    "            cfg_scale=7.0,\n",
    "            conditioning=conditioning,\n",
    "            sample_size=y.shape[-1],\n",
    "            sigma_min=0.3,\n",
    "            sigma_max=500,\n",
    "            sampler_type=\"dpmpp-3m-sde\",\n",
    "            device=\"cuda\"\n",
    "        )\n",
    "\n",
    "    with open(os.path.join(out_path, \"prompt.txt\"), \"w\") as file:\n",
    "        file.write(prompts[0])\n",
    "    torchaudio.save(os.path.join(out_path, \"input.wav\"), y[0].cpu(), sample_rate=44100)\n",
    "    torchaudio.save(os.path.join(out_path, \"output.wav\"), output[0].cpu(), sample_rate=44100)\n",
    "    torchaudio.save(os.path.join(out_path, \"mix.wav\"), y[0].cpu() + output[0].cpu(), sample_rate=44100)"
   ],
   "id": "78233c92ee92cda6",
   "outputs": [],
   "execution_count": null
  },
  {
   "metadata": {},
   "cell_type": "code",
   "source": [
    "# save results\n",
    "out_path = \"out\"\n",
    "\n",
    "if out_path not in os.listdir():\n",
    "    os.mkdir(out_path)\n",
    "\n",
    "b = next(iter(val_dataloader))\n",
    "generate_and_save(b, out_path)"
   ],
   "id": "f24ac003e4d684cc",
   "outputs": [],
   "execution_count": null
  }
 ],
 "metadata": {
  "kernelspec": {
   "display_name": "Python 3",
   "language": "python",
   "name": "python3"
  },
  "language_info": {
   "codemirror_mode": {
    "name": "ipython",
    "version": 2
   },
   "file_extension": ".py",
   "mimetype": "text/x-python",
   "name": "python",
   "nbconvert_exporter": "python",
   "pygments_lexer": "ipython2",
   "version": "2.7.6"
  }
 },
 "nbformat": 4,
 "nbformat_minor": 5
}
